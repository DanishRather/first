{
 "cells": [
  {
   "cell_type": "code",
   "execution_count": 1,
   "metadata": {},
   "outputs": [],
   "source": [
    "import pandas as pd"
   ]
  },
  {
   "cell_type": "code",
   "execution_count": null,
   "metadata": {},
   "outputs": [],
   "source": [
    "# Pandas Series of Durga Sir\n",
    "#         lecture No. 34"
   ]
  },
  {
   "cell_type": "code",
   "execution_count": null,
   "metadata": {},
   "outputs": [],
   "source": [
    "# SUMMERY FROM THE PREVIOUS LECTURE\n",
    "# 1.How to set our customized column as index\n",
    "# 1st way\n",
    "df = pd.read_csv(\"file_name.csv\",index_col=\"Name of any colum to make it as index\")\n",
    "# 2nd way\n",
    "df.set_index(keys=\"name of column\",inplace=\"True\")"
   ]
  },
  {
   "cell_type": "code",
   "execution_count": null,
   "metadata": {},
   "outputs": [],
   "source": [
    "# How to select rows y index label with loc[] indexer\n",
    "df.loc[index_label]\n",
    "df.loc[index_label1:index_label1:step]\n",
    "df.loc[[index_label1,index_label1,...]]"
   ]
  },
  {
   "cell_type": "code",
   "execution_count": null,
   "metadata": {},
   "outputs": [],
   "source": [
    "# How to select rows by index postion with iloc[] indexer\n",
    "df.iloc[index_position]\n",
    "df.iloc[index_position1:index_position2,step]\n",
    "df.iloc[[index_position1,index_position2,...]]"
   ]
  },
  {
   "cell_type": "code",
   "execution_count": null,
   "metadata": {},
   "outputs": [],
   "source": [
    "# How to get values of the required cells:\n",
    "df.loc[index_label,column_name]\n",
    "df.iloc[index_postion,column_name]"
   ]
  },
  {
   "cell_type": "code",
   "execution_count": null,
   "metadata": {},
   "outputs": [],
   "source": [
    "# To get value of ESAL of index label: 'Sunny'\n",
    "df.loc['Sunny','ESAl']"
   ]
  },
  {
   "cell_type": "code",
   "execution_count": null,
   "metadata": {},
   "outputs": [],
   "source": [
    "# How to set new value for the specified cells\n",
    "df.loc[index_label,col_name] =new_value\n",
    "df.iloc[index_positon,col_name]= new_value"
   ]
  },
  {
   "cell_type": "code",
   "execution_count": null,
   "metadata": {},
   "outputs": [],
   "source": [
    "# How to rename index labels?\n",
    "df.rename(mapper={'xyz':123,'abc':456},axis=0,inplace=True)\n",
    "df.rename(index={'sunny':'bunny','chinny':'ninny'},inplace=True)"
   ]
  },
  {
   "cell_type": "code",
   "execution_count": null,
   "metadata": {},
   "outputs": [],
   "source": [
    "# How to rename a column name\n",
    "df.rename(mapper={'Esal':'SALARY','EADDR':'CITY'},axis=1,inplace=True)\n",
    "df.rename(mapper={'Esal':'SALARY','EADDR':'CITY'},axis='column',inplace=True)\n",
    "df.rename(columns={'Esal':'SALARY','EADDR':'CITY'},inplace=True)\n",
    "df.columns = ['ENO','SALARY','CITY'] #Shortcut technique"
   ]
  },
  {
   "cell_type": "code",
   "execution_count": null,
   "metadata": {},
   "outputs": [],
   "source": [
    "# How to delete rows?\n",
    "df.drop(labels = 'Sunny',inplace=True)\n",
    "df.drop(labels='Sunny',axis=0,,inplace=True)"
   ]
  },
  {
   "cell_type": "code",
   "execution_count": null,
   "metadata": {},
   "outputs": [],
   "source": [
    "# How to delete columns?\n",
    "df.drop(labels='ESAL',axis=1,inplace=True)\n",
    "df.drop(columns='ESAL',inplace=True)\n",
    "ESAL = df.pop(\"ESAL\") #only one column will be deleted\n",
    "del df['ESAL']"
   ]
  }
 ],
 "metadata": {
  "kernelspec": {
   "display_name": "Python 3",
   "language": "python",
   "name": "python3"
  },
  "language_info": {
   "codemirror_mode": {
    "name": "ipython",
    "version": 3
   },
   "file_extension": ".py",
   "mimetype": "text/x-python",
   "name": "python",
   "nbconvert_exporter": "python",
   "pygments_lexer": "ipython3",
   "version": "3.7.3"
  }
 },
 "nbformat": 4,
 "nbformat_minor": 2
}
