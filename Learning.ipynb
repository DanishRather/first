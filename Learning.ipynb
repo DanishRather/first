{
 "cells": [
  {
   "cell_type": "markdown",
   "metadata": {},
   "source": [
    "<h3>series.unique()<br>\n",
    "np.unique(series)<br>\n",
    "both return the unique element in the series </h3>"
   ]
  },
  {
   "cell_type": "markdown",
   "metadata": {},
   "source": [
    "<h3>x = np.sum(series.value_counts() > 1)<br>\n",
    "this will return the sum of the values that are greater than 1<br>\n",
    "like:<br>\n",
    "l=pd.Series(['r','q','e','a','t','r','e','a','r','e','a','r','e','a'])<br>\n",
    "print(np.sum(l.value_counts()>1)) -- out put 3 because r,e,a,these 3 are counted more than 1 times<br>\n",
    "so there value_counts() returen vulue which is greater then 1</h3>\n",
    "\n"
   ]
  }
 ],
 "metadata": {
  "kernelspec": {
   "display_name": "Python 3",
   "language": "python",
   "name": "python3"
  },
  "language_info": {
   "codemirror_mode": {
    "name": "ipython",
    "version": 3
   },
   "file_extension": ".py",
   "mimetype": "text/x-python",
   "name": "python",
   "nbconvert_exporter": "python",
   "pygments_lexer": "ipython3",
   "version": "3.7.3"
  }
 },
 "nbformat": 4,
 "nbformat_minor": 2
}
